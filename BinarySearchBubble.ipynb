{
 "cells": [
  {
   "cell_type": "markdown",
   "id": "87983fbf-e5b9-4101-b24b-7e14aadd60af",
   "metadata": {},
   "source": [
    "## Data Structures and Algorithims\n",
    "\n",
    "This script performs an **iterative binary** search on an array.\n",
    "\n",
    "Since binary search only works on sorted arrays, we first sort the input using `Bubble Sort` before performing the search.\n",
    "\n",
    "This implementation demonstrates how to handle unsorted input in binary search scenarios. "
   ]
  },
  {
   "cell_type": "code",
   "execution_count": 2,
   "id": "340d3fcc-bf88-4c8d-bd0a-2b0aa164bc06",
   "metadata": {},
   "outputs": [
    {
     "name": "stdout",
     "output_type": "stream",
     "text": [
      "Sorted array: [12, 22, 33, 34, 56, 89, 122, 187]\n",
      "Target 12 is at index 0\n",
      "Taget 45 is not in the array\n",
      "Taget 67 is not in the array\n"
     ]
    }
   ],
   "source": [
    "def binary_search_iteration(arr, target):\n",
    "    \"\"\"\n",
    "    Function o find the index of values in an array\n",
    "    Iterates through sorted array and returns the index of specified targeted values\n",
    "    \n",
    "    Parameters\n",
    "    arr : sorted array/list to search trough\n",
    "    target : values to search in the array\n",
    "    \n",
    "    \"\"\"\n",
    "    # To store the first value and last value of the array to be passed \n",
    "    left = 0\n",
    "    right = len(arr) + 1\n",
    "\n",
    "    # Function to check that the array has no values lft for iteration\n",
    "    while left <= right:\n",
    "        # To set mid value\n",
    "        mid = (left + right) // 2\n",
    "\n",
    "        if arr[mid] == target:\n",
    "            return mid\n",
    "\n",
    "        elif arr[mid] < target:\n",
    "            left = mid + 1\n",
    "        else:\n",
    "            right = mid -1\n",
    "\n",
    "    return -1\n",
    "\n",
    "# Usage Function \n",
    "def main():\n",
    "    \"\"\"\n",
    "    Main function To demonstrate binary search\n",
    "    Te array is first sorted using Buble sort before performing binary search\n",
    "    \"\"\"\n",
    "    # Pass unsorted list and sort by buble sort algorithm \n",
    "    arr = [12, 33, 22, 56, 187, 34,89 , 122]\n",
    "    n = len(arr)\n",
    "\n",
    "    for i in range(n-1):\n",
    "        for j in range(n-i-1):\n",
    "            if arr[j] > arr[j+1]:\n",
    "                arr[j], arr[j+1] = arr[j+1], arr[j]\n",
    "\n",
    "    # To define the target values to search index\n",
    "    targets = [12, 45, 67]\n",
    "\n",
    "    # To determine the index of values by binary search\n",
    "    for target in targets:\n",
    "        result = binary_search_iteration(arr, target)\n",
    "\n",
    "\n",
    "        # To print the index of the target values\n",
    "        if result != -1:\n",
    "            # To print the the sorted array\n",
    "            print(f\"Sorted array: {arr}\")\n",
    "            print(f\"Target {target} is at index {result}\")\n",
    "        else:\n",
    "            print(f\"Taget {target} is not in the array\")\n",
    "            \n",
    "    \n",
    "if __name__ == \"__main__\":\n",
    "    main()\n"
   ]
  },
  {
   "cell_type": "code",
   "execution_count": null,
   "id": "d6ffdb65-ed39-47ca-8bc7-a8552a4b1a22",
   "metadata": {},
   "outputs": [],
   "source": []
  }
 ],
 "metadata": {
  "kernelspec": {
   "display_name": "Python 3 (ipykernel)",
   "language": "python",
   "name": "python3"
  },
  "language_info": {
   "codemirror_mode": {
    "name": "ipython",
    "version": 3
   },
   "file_extension": ".py",
   "mimetype": "text/x-python",
   "name": "python",
   "nbconvert_exporter": "python",
   "pygments_lexer": "ipython3",
   "version": "3.10.13"
  }
 },
 "nbformat": 4,
 "nbformat_minor": 5
}
